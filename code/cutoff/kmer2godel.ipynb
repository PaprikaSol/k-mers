{
 "cells": [
  {
   "cell_type": "code",
   "execution_count": 10,
   "metadata": {},
   "outputs": [
    {
     "data": {
      "text/html": [
       "'R version 3.6.3 (2020-02-29)'"
      ],
      "text/latex": [
       "'R version 3.6.3 (2020-02-29)'"
      ],
      "text/markdown": [
       "'R version 3.6.3 (2020-02-29)'"
      ],
      "text/plain": [
       "[1] \"R version 3.6.3 (2020-02-29)\""
      ]
     },
     "metadata": {},
     "output_type": "display_data"
    },
    {
     "data": {
      "text/html": [
       "'C:/Users/user/Desktop/Workspaces/R/INAB/code'"
      ],
      "text/latex": [
       "'C:/Users/user/Desktop/Workspaces/R/INAB/code'"
      ],
      "text/markdown": [
       "'C:/Users/user/Desktop/Workspaces/R/INAB/code'"
      ],
      "text/plain": [
       "[1] \"C:/Users/user/Desktop/Workspaces/R/INAB/code\""
      ]
     },
     "metadata": {},
     "output_type": "display_data"
    },
    {
     "data": {
      "text/html": [
       "'C:/Users/user/anaconda3/envs/R_anaconda/Lib/R/library'"
      ],
      "text/latex": [
       "'C:/Users/user/anaconda3/envs/R\\_anaconda/Lib/R/library'"
      ],
      "text/markdown": [
       "'C:/Users/user/anaconda3/envs/R_anaconda/Lib/R/library'"
      ],
      "text/plain": [
       "[1] \"C:/Users/user/anaconda3/envs/R_anaconda/Lib/R/library\""
      ]
     },
     "metadata": {},
     "output_type": "display_data"
    }
   ],
   "source": [
    "#Check the version\n",
    "R.version.string\n",
    "\n",
    "#Check the working directory & the library paths\n",
    "getwd()\n",
    ".libPaths()  "
   ]
  },
  {
   "cell_type": "code",
   "execution_count": 4,
   "metadata": {},
   "outputs": [
    {
     "name": "stdout",
     "output_type": "stream",
     "text": [
      "package 'primes' successfully unpacked and MD5 sums checked\n"
     ]
    },
    {
     "name": "stderr",
     "output_type": "stream",
     "text": [
      "Warning message:\n",
      "\"cannot remove prior installation of package 'primes'\"\n",
      "Warning message in file.copy(savedcopy, lib, recursive = TRUE):\n",
      "\"problem copying C:\\Users\\user\\anaconda3\\envs\\R_anaconda\\Lib\\R\\library\\00LOCK\\primes\\libs\\x64\\primes.dll.conda_trash to C:\\Users\\user\\anaconda3\\envs\\R_anaconda\\Lib\\R\\library\\primes\\libs\\x64\\primes.dll.conda_trash: Permission denied\"\n",
      "Warning message:\n",
      "\"restored 'primes'\"\n"
     ]
    },
    {
     "name": "stdout",
     "output_type": "stream",
     "text": [
      "\n",
      "The downloaded binary packages are in\n",
      "\tC:\\Users\\user\\AppData\\Local\\Temp\\Rtmp0cOJtn\\downloaded_packages\n"
     ]
    }
   ],
   "source": [
    "# Install packages\n",
    "# install.packages('Rcpp')\n",
    "# install.packages('randtoolbox')\n",
    "# install.packages('SciViews')\n",
    "# install.packages('stringr')\n",
    "# install.packages('purrr')"
   ]
  },
  {
   "cell_type": "code",
   "execution_count": 5,
   "metadata": {},
   "outputs": [],
   "source": [
    "# Load libraries\n",
    "library(Rcpp)\n",
    "library(randtoolbox)\n",
    "library(SciViews)\n",
    "library(stringr)\n",
    "library(purrr)"
   ]
  },
  {
   "cell_type": "code",
   "execution_count": 7,
   "metadata": {},
   "outputs": [],
   "source": [
    "# Kmers to Godel numbers for a specific k\n",
    "# Works for k-mers that contain only 'A', 'C', 'G' & 'T'\n",
    "\n",
    "kmer2godel <- function(kmer, encoding){\n",
    "    \n",
    "    godel = 0\n",
    "    k = nchar(kmer)\n",
    "    primes = get.primes(k)\n",
    "    for (i in 1:k){\n",
    "        nucl = unlist(strsplit(kmer, split=NULL))[i]\n",
    "        coef = switch(\n",
    "            nucl,\n",
    "            'A' = encoding[1],\n",
    "            'C' = encoding[2],\n",
    "            'G' = encoding[3],\n",
    "            'T' = encoding[4],\n",
    "            0\n",
    "        )\n",
    "        godel = godel + coef*ln(primes[i])\n",
    "    }\n",
    "return (godel)\n",
    "}"
   ]
  },
  {
   "cell_type": "code",
   "execution_count": 8,
   "metadata": {},
   "outputs": [
    {
     "data": {
      "text/html": [
       "65.5289188979402"
      ],
      "text/latex": [
       "65.5289188979402"
      ],
      "text/markdown": [
       "65.5289188979402"
      ],
      "text/plain": [
       "[1] 65.52892"
      ]
     },
     "metadata": {},
     "output_type": "display_data"
    }
   ],
   "source": [
    "# Example\n",
    "encoding = c(1, 2, 3, 4)\n",
    "kmer2godel('TATTGAAGTT', encoding)"
   ]
  }
 ],
 "metadata": {
  "kernelspec": {
   "display_name": "R",
   "language": "R",
   "name": "ir"
  },
  "language_info": {
   "codemirror_mode": "r",
   "file_extension": ".r",
   "mimetype": "text/x-r-source",
   "name": "R",
   "pygments_lexer": "r",
   "version": "3.6.3"
  }
 },
 "nbformat": 4,
 "nbformat_minor": 4
}
