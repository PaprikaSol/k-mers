{
 "cells": [
  {
   "cell_type": "code",
   "execution_count": 51,
   "metadata": {
    "scrolled": false
   },
   "outputs": [
    {
     "data": {
      "text/html": [
       "'R version 3.6.3 (2020-02-29)'"
      ],
      "text/latex": [
       "'R version 3.6.3 (2020-02-29)'"
      ],
      "text/markdown": [
       "'R version 3.6.3 (2020-02-29)'"
      ],
      "text/plain": [
       "[1] \"R version 3.6.3 (2020-02-29)\""
      ]
     },
     "metadata": {},
     "output_type": "display_data"
    },
    {
     "data": {
      "text/html": [
       "'C:/Users/user/Desktop/Workspaces/R/INAB/code'"
      ],
      "text/latex": [
       "'C:/Users/user/Desktop/Workspaces/R/INAB/code'"
      ],
      "text/markdown": [
       "'C:/Users/user/Desktop/Workspaces/R/INAB/code'"
      ],
      "text/plain": [
       "[1] \"C:/Users/user/Desktop/Workspaces/R/INAB/code\""
      ]
     },
     "metadata": {},
     "output_type": "display_data"
    }
   ],
   "source": [
    "#Check the version\n",
    "R.version.string\n",
    "getwd()"
   ]
  },
  {
   "cell_type": "code",
   "execution_count": 52,
   "metadata": {},
   "outputs": [],
   "source": [
    "# # Install packages\n",
    "# install.packages('stringr')\n",
    "# install.packages('glue')\n",
    "# install.packages('purrr')\n",
    "# # install.packages('tictoc')\n",
    "# install.packages('plotly')"
   ]
  },
  {
   "cell_type": "code",
   "execution_count": 53,
   "metadata": {},
   "outputs": [],
   "source": [
    "# Load libraries\n",
    "library(stringr)\n",
    "library(glue)\n",
    "library(purrr)\n",
    "# library(plotly)\n",
    "# library(tictoc)"
   ]
  },
  {
   "cell_type": "code",
   "execution_count": 54,
   "metadata": {},
   "outputs": [],
   "source": [
    "#Get the statistical results for a specific dataset and cutoff - [1]\n",
    "table_cutoff_multiplicity<- function(data){\n",
    "    \n",
    "    wilcoxon <- matrix(, nrow = 3, ncol = 9, dimnames = list(c('Low-High', 'Low-Total', 'High-Total'), seq(100, 900, 100)))\n",
    "    fisher <- matrix(, nrow = 3, ncol = 9, dimnames = list(c('Low-High', 'Low-Total', 'High-Total'), seq(100, 900, 100)))\n",
    "    kolm_smirnov <- matrix(, nrow = 3, ncol = 9, dimnames = list(c('Low-High', 'Low-Total', 'High-Total'), seq(100, 900, 100)))\n",
    "    \n",
    "    #STATISTICAL TESTS [WILCOXON, FISHER, KOLMOGOROV-SMIRNOV]  \n",
    "\n",
    "    for (cut in 1:9){\n",
    "        \n",
    "        low_mult <- data[data$Value < 100*cut, ]\n",
    "        high_mult <- data[data$Value >= 100*cut, ]\n",
    "\n",
    "        low = table(low_mult[, 2])\n",
    "        high = table(high_mult[, 2])\n",
    "        total = table(data[, 2])\n",
    "    \n",
    "        #Wilcoxon Test\n",
    "        w1 = wilcox.test(low, high)$p.value\n",
    "        w1[w1 >= 0.05] <- 1\n",
    "        w1[w1 < 0.05] <- 0\n",
    "        wilcoxon[1, cut] = as.integer(w1)\n",
    "        \n",
    "        w2 = wilcox.test(low, total)$p.value\n",
    "        w2[w2 >= 0.05] <- 1\n",
    "        w2[w2 < 0.05] <- 0\n",
    "        wilcoxon[2, cut] = as.integer(w2)\n",
    "        \n",
    "        w3 = wilcox.test(high, total)$p.value\n",
    "        w3[w3 >= 0.05] <- 1\n",
    "        w3[w3 < 0.05] <- 0\n",
    "        wilcoxon[3, cut] = as.integer(w3)\n",
    "\n",
    "        #Fisher Test\n",
    "        f1 = var.test(low, high)$p.value\n",
    "        f1[f1 >= 0.05] <- 1\n",
    "        f1[f1 < 0.05] <- 0\n",
    "        fisher[1, cut] = as.integer(f1)\n",
    "        \n",
    "        f2 = var.test(low, total)$p.value\n",
    "        f2[f2 >= 0.05] <- 1\n",
    "        f2[f2 < 0.05] <- 0\n",
    "        fisher[2, cut] = as.integer(f2)\n",
    "        \n",
    "        f3 = var.test(high, total)$p.value\n",
    "        f3[f3 >= 0.05] <- 1\n",
    "        f3[f3 < 0.05] <- 0\n",
    "        fisher[3, cut] = as.integer(f3)\n",
    "\n",
    "        #Kolmogorov-Smirnov\n",
    "        k1 = ks.test(low, high)$p.value\n",
    "        k1[k1 >= 0.05] <- 1\n",
    "        k1[k1 < 0.05] <- 0\n",
    "        kolm_smirnov[1, cut] = as.integer(k1)\n",
    "        \n",
    "        k2 = ks.test(low, total)$p.value\n",
    "        k2[k2 >= 0.05] <- 1\n",
    "        k2[k2 < 0.05] <- 0\n",
    "        kolm_smirnov[2, cut] = as.integer(k2)\n",
    "        \n",
    "        k3 = ks.test(high, total)$p.value\n",
    "        k3[k3 >= 0.05] <- 1\n",
    "        k3[k3 < 0.05] <- 0\n",
    "        kolm_smirnov[3, cut] = as.integer(k3)\n",
    "        \n",
    "#         #Shapiro\n",
    "#         saphiro[1, cut] = .test(low, high)$p.value\n",
    "#         saphiro[2, cut] = cor.test(low, total)$p.value\n",
    "#         shapiro[3, cut] = cor.test(high, total)$p.value\n",
    "        }\n",
    "\n",
    "    return (list(wilcoxon, fisher, kolm_smirnov))\n",
    "}"
   ]
  },
  {
   "cell_type": "code",
   "execution_count": 56,
   "metadata": {},
   "outputs": [
    {
     "data": {
      "text/html": [
       "<ol>\n",
       "\t<li><table>\n",
       "<caption>A matrix: 3 × 9 of type int</caption>\n",
       "<thead>\n",
       "\t<tr><th></th><th scope=col>100</th><th scope=col>200</th><th scope=col>300</th><th scope=col>400</th><th scope=col>500</th><th scope=col>600</th><th scope=col>700</th><th scope=col>800</th><th scope=col>900</th></tr>\n",
       "</thead>\n",
       "<tbody>\n",
       "\t<tr><th scope=row>Low-High</th><td>0</td><td>0</td><td>0</td><td>0</td><td>1</td><td>0</td><td>0</td><td>0</td><td>0</td></tr>\n",
       "\t<tr><th scope=row>Low-Total</th><td>0</td><td>0</td><td>0</td><td>1</td><td>1</td><td>1</td><td>0</td><td>0</td><td>0</td></tr>\n",
       "\t<tr><th scope=row>High-Total</th><td>1</td><td>1</td><td>1</td><td>1</td><td>1</td><td>1</td><td>0</td><td>0</td><td>0</td></tr>\n",
       "</tbody>\n",
       "</table>\n",
       "</li>\n",
       "\t<li><table>\n",
       "<caption>A matrix: 3 × 9 of type int</caption>\n",
       "<thead>\n",
       "\t<tr><th></th><th scope=col>100</th><th scope=col>200</th><th scope=col>300</th><th scope=col>400</th><th scope=col>500</th><th scope=col>600</th><th scope=col>700</th><th scope=col>800</th><th scope=col>900</th></tr>\n",
       "</thead>\n",
       "<tbody>\n",
       "\t<tr><th scope=row>Low-High</th><td>0</td><td>0</td><td>0</td><td>0</td><td>0</td><td>0</td><td>1</td><td>1</td><td>0</td></tr>\n",
       "\t<tr><th scope=row>Low-Total</th><td>0</td><td>0</td><td>0</td><td>0</td><td>0</td><td>1</td><td>1</td><td>1</td><td>1</td></tr>\n",
       "\t<tr><th scope=row>High-Total</th><td>0</td><td>0</td><td>0</td><td>0</td><td>0</td><td>1</td><td>1</td><td>1</td><td>1</td></tr>\n",
       "</tbody>\n",
       "</table>\n",
       "</li>\n",
       "\t<li><table>\n",
       "<caption>A matrix: 3 × 9 of type int</caption>\n",
       "<thead>\n",
       "\t<tr><th></th><th scope=col>100</th><th scope=col>200</th><th scope=col>300</th><th scope=col>400</th><th scope=col>500</th><th scope=col>600</th><th scope=col>700</th><th scope=col>800</th><th scope=col>900</th></tr>\n",
       "</thead>\n",
       "<tbody>\n",
       "\t<tr><th scope=row>Low-High</th><td>0</td><td>0</td><td>0</td><td>0</td><td>0</td><td>0</td><td>0</td><td>0</td><td>0</td></tr>\n",
       "\t<tr><th scope=row>Low-Total</th><td>0</td><td>0</td><td>0</td><td>0</td><td>1</td><td>1</td><td>0</td><td>0</td><td>0</td></tr>\n",
       "\t<tr><th scope=row>High-Total</th><td>1</td><td>1</td><td>1</td><td>1</td><td>1</td><td>1</td><td>0</td><td>0</td><td>0</td></tr>\n",
       "</tbody>\n",
       "</table>\n",
       "</li>\n",
       "</ol>\n"
      ],
      "text/latex": [
       "\\begin{enumerate}\n",
       "\\item A matrix: 3 × 9 of type int\n",
       "\\begin{tabular}{r|lllllllll}\n",
       "  & 100 & 200 & 300 & 400 & 500 & 600 & 700 & 800 & 900\\\\\n",
       "\\hline\n",
       "\tLow-High & 0 & 0 & 0 & 0 & 1 & 0 & 0 & 0 & 0\\\\\n",
       "\tLow-Total & 0 & 0 & 0 & 1 & 1 & 1 & 0 & 0 & 0\\\\\n",
       "\tHigh-Total & 1 & 1 & 1 & 1 & 1 & 1 & 0 & 0 & 0\\\\\n",
       "\\end{tabular}\n",
       "\n",
       "\\item A matrix: 3 × 9 of type int\n",
       "\\begin{tabular}{r|lllllllll}\n",
       "  & 100 & 200 & 300 & 400 & 500 & 600 & 700 & 800 & 900\\\\\n",
       "\\hline\n",
       "\tLow-High & 0 & 0 & 0 & 0 & 0 & 0 & 1 & 1 & 0\\\\\n",
       "\tLow-Total & 0 & 0 & 0 & 0 & 0 & 1 & 1 & 1 & 1\\\\\n",
       "\tHigh-Total & 0 & 0 & 0 & 0 & 0 & 1 & 1 & 1 & 1\\\\\n",
       "\\end{tabular}\n",
       "\n",
       "\\item A matrix: 3 × 9 of type int\n",
       "\\begin{tabular}{r|lllllllll}\n",
       "  & 100 & 200 & 300 & 400 & 500 & 600 & 700 & 800 & 900\\\\\n",
       "\\hline\n",
       "\tLow-High & 0 & 0 & 0 & 0 & 0 & 0 & 0 & 0 & 0\\\\\n",
       "\tLow-Total & 0 & 0 & 0 & 0 & 1 & 1 & 0 & 0 & 0\\\\\n",
       "\tHigh-Total & 1 & 1 & 1 & 1 & 1 & 1 & 0 & 0 & 0\\\\\n",
       "\\end{tabular}\n",
       "\n",
       "\\end{enumerate}\n"
      ],
      "text/markdown": [
       "1. \n",
       "A matrix: 3 × 9 of type int\n",
       "\n",
       "| <!--/--> | 100 | 200 | 300 | 400 | 500 | 600 | 700 | 800 | 900 |\n",
       "|---|---|---|---|---|---|---|---|---|---|\n",
       "| Low-High | 0 | 0 | 0 | 0 | 1 | 0 | 0 | 0 | 0 |\n",
       "| Low-Total | 0 | 0 | 0 | 1 | 1 | 1 | 0 | 0 | 0 |\n",
       "| High-Total | 1 | 1 | 1 | 1 | 1 | 1 | 0 | 0 | 0 |\n",
       "\n",
       "\n",
       "2. \n",
       "A matrix: 3 × 9 of type int\n",
       "\n",
       "| <!--/--> | 100 | 200 | 300 | 400 | 500 | 600 | 700 | 800 | 900 |\n",
       "|---|---|---|---|---|---|---|---|---|---|\n",
       "| Low-High | 0 | 0 | 0 | 0 | 0 | 0 | 1 | 1 | 0 |\n",
       "| Low-Total | 0 | 0 | 0 | 0 | 0 | 1 | 1 | 1 | 1 |\n",
       "| High-Total | 0 | 0 | 0 | 0 | 0 | 1 | 1 | 1 | 1 |\n",
       "\n",
       "\n",
       "3. \n",
       "A matrix: 3 × 9 of type int\n",
       "\n",
       "| <!--/--> | 100 | 200 | 300 | 400 | 500 | 600 | 700 | 800 | 900 |\n",
       "|---|---|---|---|---|---|---|---|---|---|\n",
       "| Low-High | 0 | 0 | 0 | 0 | 0 | 0 | 0 | 0 | 0 |\n",
       "| Low-Total | 0 | 0 | 0 | 0 | 1 | 1 | 0 | 0 | 0 |\n",
       "| High-Total | 1 | 1 | 1 | 1 | 1 | 1 | 0 | 0 | 0 |\n",
       "\n",
       "\n",
       "\n",
       "\n"
      ],
      "text/plain": [
       "[[1]]\n",
       "           100 200 300 400 500 600 700 800 900\n",
       "Low-High     0   0   0   0   1   0   0   0   0\n",
       "Low-Total    0   0   0   1   1   1   0   0   0\n",
       "High-Total   1   1   1   1   1   1   0   0   0\n",
       "\n",
       "[[2]]\n",
       "           100 200 300 400 500 600 700 800 900\n",
       "Low-High     0   0   0   0   0   0   1   1   0\n",
       "Low-Total    0   0   0   0   0   1   1   1   1\n",
       "High-Total   0   0   0   0   0   1   1   1   1\n",
       "\n",
       "[[3]]\n",
       "           100 200 300 400 500 600 700 800 900\n",
       "Low-High     0   0   0   0   0   0   0   0   0\n",
       "Low-Total    0   0   0   0   1   1   0   0   0\n",
       "High-Total   1   1   1   1   1   1   0   0   0\n"
      ]
     },
     "metadata": {},
     "output_type": "display_data"
    }
   ],
   "source": [
    "#Main - [1]\n",
    "options(warn=-1)\n",
    "\n",
    "#Choose k\n",
    "k = 15\n",
    "\n",
    "#Load data\n",
    "data_path = file.path('C:','Users', 'user', 'Desktop', 'Workspaces', 'R', 'INAB', 'data', glue('sars_1000_info_k={k}.txt'))\n",
    "data <- read.table(data_path)\n",
    "\n",
    "#Filter data for 'ACTG'\n",
    "filt_data <- data[str_detect(data[, 1], '^[ACTG]+$'),]\n",
    "\n",
    "tbl = table_cutoff_multiplicity(filt_data)\n",
    "tbl\n",
    "\n",
    "#Save results\n",
    "res_path = file.path('C:','Users', 'user', 'Desktop', 'Workspaces', 'R', 'INAB', 'results')\n",
    "write.csv(tbl[1], glue('{res_path}/table_multiplicity_wilcox_k={k}'))\n",
    "write.csv(tbl[2], glue('{res_path}/table_multiplicity_fisher_k={k}'))\n",
    "write.csv(tbl[3], glue('{res_path}/table_multiplicity_kolm_k={k}'))"
   ]
  },
  {
   "cell_type": "code",
   "execution_count": 57,
   "metadata": {},
   "outputs": [
    {
     "data": {
      "image/png": "[encoded data removed]",
      "text/plain": [
       "Plot with title \"Kolm-Smirnov : High-Total\""
      ]
     },
     "metadata": {
      "image/png": {
       "height": 420,
       "width": 420
      }
     },
     "output_type": "display_data"
    }
   ],
   "source": [
    "#Plots - ALL [1]\n",
    "img_path = glue('{res_path}/img')\n",
    "# png(glue('{img_path}/stats_multiplicity_k={k}.png'))\n",
    "par(mfcol=c(3,3))\n",
    "\n",
    "\n",
    "x_axis = 100*(1:9)\n",
    "y_lim = c(0, 1)\n",
    "# y_lim = NULL\n",
    "\n",
    "#Wilcoxon\n",
    "df_w = as.data.frame(tbl[1])\n",
    "\n",
    "plot(x =  x_axis, y = unlist(df_w[1, ]), type = 'o', main = 'Wilcoxon : Low-High', xlab = 'cutoff', ylab = 'p-value', ylim = y_lim)\n",
    "abline(h = 0.05)\n",
    "\n",
    "plot(x =  x_axis, y = unlist(df_w[2, ]), type = 'o', main = 'Wilcoxon : Low-Total', xlab = 'cutoff', ylab = 'p-value', ylim = y_lim)\n",
    "abline(h = 0.05)\n",
    "\n",
    "plot(x =  x_axis, y = unlist(df_w[3, ]), type = 'o', main = 'Wilcoxon : High-Total', xlab = 'cutoff', ylab = 'p-value', ylim = y_lim)\n",
    "abline(h = 0.05)\n",
    "\n",
    "#Fisher\n",
    "df_f = as.data.frame(tbl[2])\n",
    "\n",
    "plot(x = x_axis, y = unlist(df_f[1, ]), type = 'o', main = 'Fisher : Low-High', xlab = 'cutoff', ylab = 'p-value', ylim = y_lim)\n",
    "abline(h = 0.05)\n",
    "\n",
    "plot(x = x_axis, y = unlist(df_f[2, ]), type = 'o', main = 'Fisher : Low-Total', xlab = 'cutoff', ylab = 'p-value', ylim = y_lim)\n",
    "abline(h = 0.05)\n",
    "\n",
    "plot(x = x_axis, y = unlist(df_f[3, ]), type = 'o', main = 'Fisher : High-Total', xlab = 'cutoff', ylab = 'p-value', ylim = y_lim)\n",
    "abline(h = 0.05)\n",
    "\n",
    "#Kolmogorov-Smirnov\n",
    "df_k = as.data.frame(tbl[3])\n",
    "plot(x = x_axis, y = unlist(df_k[1, ]), type = 'o', main = 'Kolm-Smirnov : Low-High', xlab = 'cutoff', ylab = 'p-value', ylim = y_lim)\n",
    "abline(h = 0.05)\n",
    "\n",
    "plot(x = x_axis, y = unlist(df_k[2, ]), type = 'o', main = 'Kolm-Smirnov : Low-Total', xlab = 'cutoff', ylab = 'p-value', ylim = y_lim)\n",
    "abline(h = 0.05)\n",
    "\n",
    "plot(x = x_axis, y = unlist(df_k[3, ]), type = 'o', main = 'Kolm-Smirnov : High-Total', xlab = 'cutoff', ylab = 'p-value', ylim = y_lim)\n",
    "abline(h = 0.05)\n",
    "\n",
    "# dev.off()"
   ]
  },
  {
   "cell_type": "code",
   "execution_count": null,
   "metadata": {},
   "outputs": [],
   "source": []
  }
 ],
 "metadata": {
  "kernelspec": {
   "display_name": "R",
   "language": "R",
   "name": "ir"
  },
  "language_info": {
   "codemirror_mode": "r",
   "file_extension": ".r",
   "mimetype": "text/x-r-source",
   "name": "R",
   "pygments_lexer": "r",
   "version": "3.6.3"
  }
 },
 "nbformat": 4,
 "nbformat_minor": 4
}
